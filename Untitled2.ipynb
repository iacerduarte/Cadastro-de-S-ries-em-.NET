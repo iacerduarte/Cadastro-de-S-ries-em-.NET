{
  "nbformat": 4,
  "nbformat_minor": 0,
  "metadata": {
    "colab": {
      "provenance": [],
      "authorship_tag": "ABX9TyPDjuliUNSMHpTlqr62iqAS",
      "include_colab_link": true
    },
    "kernelspec": {
      "name": "python3",
      "display_name": "Python 3"
    },
    "language_info": {
      "name": "python"
    }
  },
  "cells": [
    {
      "cell_type": "markdown",
      "metadata": {
        "id": "view-in-github",
        "colab_type": "text"
      },
      "source": [
        "<a href=\"https://colab.research.google.com/github/iacerduarte/Cadastro-de-Series-em-.NET/blob/main/Untitled2.ipynb\" target=\"_parent\"><img src=\"https://colab.research.google.com/assets/colab-badge.svg\" alt=\"Open In Colab\"/></a>"
      ]
    },
    {
      "cell_type": "code",
      "source": [
        "numero = int(input('Digite um numero:'))\n",
        "for numero in range (1, numero + 1):\n",
        "  print(numero, end=' ')"
      ],
      "metadata": {
        "colab": {
          "base_uri": "https://localhost:8080/"
        },
        "id": "rnNWUZsSL-v_",
        "outputId": "6b6ff2e6-d71e-4ed1-cd23-ad51ad129628"
      },
      "execution_count": null,
      "outputs": [
        {
          "output_type": "stream",
          "name": "stdout",
          "text": [
            "Digite um numero:7\n",
            "1 2 3 4 5 6 7 "
          ]
        }
      ]
    },
    {
      "cell_type": "code",
      "source": [
        "numero = float(input('Informe um numero:'))\n",
        "\n",
        "if numero < 0 or numero > 100:\n",
        "  print('Fora de intervalo!')\n",
        "elif numero <= 25:\n",
        "  print('[0, 25]')\n",
        "elif numero <= 50:\n",
        "  print('(25, 50]')\n",
        "elif numero <= 75:\n",
        "  print('(50, 75]')\n",
        "else:\n",
        "  print('(75, 100]')"
      ],
      "metadata": {
        "colab": {
          "base_uri": "https://localhost:8080/"
        },
        "id": "SO5Rdnx5QqUH",
        "outputId": "a71ec0fb-e1aa-4001-82ee-b8e906f17e57"
      },
      "execution_count": null,
      "outputs": [
        {
          "output_type": "stream",
          "name": "stdout",
          "text": [
            "Informe um numero:78\n",
            "(75, 100]\n"
          ]
        }
      ]
    },
    {
      "cell_type": "code",
      "source": [
        "from math import  pi\n",
        "def calcular_area_circulo (raio):\n",
        "  return pi*raio**2\n",
        "area = calcular_area_circulo(2)\n",
        "print(area)\n",
        "print(round(area))"
      ],
      "metadata": {
        "colab": {
          "base_uri": "https://localhost:8080/"
        },
        "id": "4aIbujtjqh-r",
        "outputId": "8012c39c-83bb-4abc-bcda-da2a2f52d6c5"
      },
      "execution_count": null,
      "outputs": [
        {
          "output_type": "stream",
          "name": "stdout",
          "text": [
            "12.566370614359172\n",
            "13\n"
          ]
        }
      ]
    },
    {
      "cell_type": "code",
      "source": [
        "numero1 = int(input('digite o primeiro numero inteiro:'))\n",
        "numero2 = int(input('digite o segundo numero inteiro:'))\n",
        "numero3 = float(input('digite o terceiro numero real:'))\n",
        "calculoA = ((2*numero1)*(numero2/2))\n",
        "print(calculoA)\n",
        "calculoB = ((3*numero1) + numero3)\n",
        "print(calculoB)\n",
        "calculoC = (numero3)**3\n",
        "print(calculoC)"
      ],
      "metadata": {
        "colab": {
          "base_uri": "https://localhost:8080/"
        },
        "id": "ZmB2vkUuX37c",
        "outputId": "8f7e577d-1db7-4848-d38f-714dbd170d77"
      },
      "execution_count": null,
      "outputs": [
        {
          "output_type": "stream",
          "name": "stdout",
          "text": [
            "digite o primeiro numero inteiro:2\n",
            "digite o segundo numero inteiro:2\n",
            "digite o terceiro numero real:3\n",
            "4.0\n",
            "9.0\n",
            "27.0\n"
          ]
        }
      ]
    },
    {
      "cell_type": "code",
      "source": [
        "mora_perto = input('Mora perto da vitima?').lower()\n",
        "trabalhou_com = input('Já trabalhou com a vitima?').lower()\n",
        "telefonou_para = input('Telefonou para vitima?').lower()\n",
        "esteve_no_local = input('Esteve no local do crime?').lower()\n",
        "devia_para = input('Devia para vitima?').lower()\n",
        "\n",
        "pontuacao_total = 0\n",
        "\n",
        "if mora_perto == 'sim':\n",
        "  pontuacao_total += 1\n",
        "if trabalhou_com == 'sim':\n",
        "  pontuacao_total += 1\n",
        "if telefonou_para == 'sim':\n",
        "  pontuacao_total += 1\n",
        "if esteve_no_local == 'sim':\n",
        "  pontuacao_total += 1\n",
        "if devia_para == 'sim':\n",
        "  pontuacao_total += 1\n",
        "\n",
        "if pontuacao_total == 5:\n",
        "  print('Assassino!')\n",
        "elif pontuacao_total >= 3:\n",
        "  print('Cumplice!')\n",
        "elif pontuacao_total == 2:\n",
        "  print('Suspeito!')\n",
        "else:\n",
        "  print('Liberado')"
      ],
      "metadata": {
        "colab": {
          "base_uri": "https://localhost:8080/"
        },
        "id": "E6FfkH9EYWnf",
        "outputId": "a608b93b-6d3c-452a-ce13-ad892fde886e"
      },
      "execution_count": null,
      "outputs": [
        {
          "output_type": "stream",
          "name": "stdout",
          "text": [
            "Mora perto da vitima?nao\n",
            "Já trabalhou com a vitima?nao\n",
            "Telefonou para vitima?nao\n",
            "Esteve no local do crime?nao\n",
            "Devia para vitima?nao\n",
            "Liberado\n"
          ]
        }
      ]
    },
    {
      "cell_type": "code",
      "source": [
        "def somar_elementos (lista):\n",
        "  soma = 0\n",
        "  for i in lista:\n",
        "    soma += i\n",
        "  return soma\n",
        "lista = [4, 6, 7, 5, 3]\n",
        "resultado = somar_elementos (lista)\n",
        "print('Soma dos elementos da lista =', resultado)\n"
      ],
      "metadata": {
        "colab": {
          "base_uri": "https://localhost:8080/"
        },
        "id": "Z0UVso7D9mtT",
        "outputId": "1c733e41-cc89-4a02-a6b9-8ed9524bc748"
      },
      "execution_count": null,
      "outputs": [
        {
          "output_type": "stream",
          "name": "stdout",
          "text": [
            "Soma dos elementos da lista = 25\n"
          ]
        }
      ]
    },
    {
      "cell_type": "code",
      "source": [
        "def somar_elementos (lista):\n",
        "  return sum(lista)\n",
        "lista = [4, 6, 7, 5, 3]\n",
        "resultado = somar_elementos (lista)\n",
        "print('Soma dos elementos da lista =', resultado)\n"
      ],
      "metadata": {
        "id": "3cmTAKkJA47K",
        "colab": {
          "base_uri": "https://localhost:8080/"
        },
        "outputId": "c6973c85-4d03-42bf-cb8e-93d9245b70c7"
      },
      "execution_count": null,
      "outputs": [
        {
          "output_type": "stream",
          "name": "stdout",
          "text": [
            "Soma dos elementos da lista = 25\n"
          ]
        }
      ]
    },
    {
      "cell_type": "code",
      "source": [
        "from math import sqrt\n",
        "x1 = float(input('coordenada x do primeiro ponto:'))\n",
        "y1 = float(input('coordenada y do primeiro ponto:'))\n",
        "x2 = float(input('coordenada x do segundo ponto:'))\n",
        "y2 = float(input('coordenada y do segundo ponto:'))\n",
        "distancia = sqrt((x2-x1)**2 + (y2-y1)**2)\n",
        "print('distancia euclidiana entre os pontos = ', distancia)\n"
      ],
      "metadata": {
        "colab": {
          "base_uri": "https://localhost:8080/"
        },
        "id": "AcNlAB_FH-hr",
        "outputId": "f6690d60-4ac2-4d87-9243-e41bf5f3f0ca"
      },
      "execution_count": null,
      "outputs": [
        {
          "output_type": "stream",
          "name": "stdout",
          "text": [
            "coordenada x do primeiro ponto:2\n",
            "coordenada y do primeiro ponto:4\n",
            "coordenada x do segundo ponto:-1\n",
            "coordenada y do segundo ponto:3\n",
            "distancia entre os pontos =  3.1622776601683795\n"
          ]
        }
      ]
    },
    {
      "cell_type": "code",
      "source": [
        "x1,y1 = map(float, input('coordenadas do ponto 1 (separadas por espaços):').split())\n",
        "x2,y2 = map(float, input('coordenadas do ponto 2 (separadas por espaços):').split())\n",
        "from math import sqrt\n",
        "distancia = sqrt((x2-x1)**2 + (y2-y1)**2)\n",
        "print('distancia entre os pontos=',distancia)"
      ],
      "metadata": {
        "id": "dQsT0I9SNz6P",
        "colab": {
          "base_uri": "https://localhost:8080/"
        },
        "outputId": "07605757-0880-4274-e235-6a8a585448dd"
      },
      "execution_count": null,
      "outputs": [
        {
          "output_type": "stream",
          "name": "stdout",
          "text": [
            "coordenadas do ponto 1 (separadas por espaços):2 4\n",
            "coordenadas do ponto 2 (separadas por espaços):1 5\n",
            "distancia entre os pontos= 1.4142135623730951\n"
          ]
        }
      ]
    },
    {
      "cell_type": "code",
      "source": [
        "contador = 1\n",
        "soma = 0\n",
        "termo = 1\n",
        "\n",
        "while contador <= 1000:\n",
        "  termo = termo/contador\n",
        "  soma += termo\n",
        "  contador += 1\n",
        "  \n",
        "\n",
        "print(soma)"
      ],
      "metadata": {
        "colab": {
          "base_uri": "https://localhost:8080/"
        },
        "id": "PEcbId5uObaG",
        "outputId": "fc2f352b-e479-45dd-ae90-70ccd792b557"
      },
      "execution_count": null,
      "outputs": [
        {
          "output_type": "stream",
          "name": "stdout",
          "text": [
            "1.7182818284590455\n"
          ]
        }
      ]
    },
    {
      "cell_type": "code",
      "source": [
        "def isPalindrome(str):\n",
        "  if str == str[::-1]:\n",
        "    return str + \" is a palindrome!\"\n",
        "  else:\n",
        "    return str + \" is not palindrome!\"\n",
        "userSentence = input(\"Enter a sentence to be tested as a palindrome:\")\n",
        "print(isPalindrome(userSentence))"
      ],
      "metadata": {
        "colab": {
          "base_uri": "https://localhost:8080/"
        },
        "id": "RKrL3LMAqJSK",
        "outputId": "2f4dea9b-fd39-419f-a18c-717bce9d237d"
      },
      "execution_count": null,
      "outputs": [
        {
          "output_type": "stream",
          "name": "stdout",
          "text": [
            "Enter a sentence to be tested as a palindrome:ovo\n",
            "ovo is a palindrome!\n"
          ]
        }
      ]
    },
    {
      "cell_type": "code",
      "source": [
        "def main():\n",
        "  userSentence = input(\"Enter a sentence to be tested as a palindrome:\")\n",
        "  print(isPalindrome(userSentence))\n",
        "if __name__ == \"__main__\":\n",
        "  main()"
      ],
      "metadata": {
        "colab": {
          "base_uri": "https://localhost:8080/"
        },
        "id": "viFqC8VEsD04",
        "outputId": "c9ec5877-bb75-4eef-8aa7-08f355a74fa7"
      },
      "execution_count": null,
      "outputs": [
        {
          "output_type": "stream",
          "name": "stdout",
          "text": [
            "Enter a sentence to be tested as a palindrome:ovo\n",
            "ovo is a palindrome!\n"
          ]
        }
      ]
    },
    {
      "cell_type": "code",
      "source": [
        "def main():\n",
        "  userSentence = input(\"Enter a sentence to be tested as a palindrome:\")\n",
        "  print(isPalindrome(userSentence))\n",
        "if __name__ == \"__main__\":\n",
        "  main()"
      ],
      "metadata": {
        "id": "uUF-liQZ0rdn"
      },
      "execution_count": null,
      "outputs": []
    },
    {
      "cell_type": "code",
      "source": [
        "#implementacao do loop com for e while:\n",
        "count = 1\n",
        "while count + 1 <= 20:\n",
        "  if count % 5 == 0:\n",
        "    print(\"SKIP\")\n",
        "    count += 1\n",
        "    continue\n",
        "  print(count)\n",
        "  count += 1\n",
        "  "
      ],
      "metadata": {
        "id": "abJ94gBE7pJt"
      },
      "execution_count": null,
      "outputs": []
    },
    {
      "cell_type": "code",
      "source": [
        "for i in range (1, 20):\n",
        "  if i % 5 == 0:\n",
        "    print(\"SKIP\")\n",
        "    continue\n",
        "  print(i)"
      ],
      "metadata": {
        "id": "n1IU4IWm9mYs"
      },
      "execution_count": null,
      "outputs": []
    },
    {
      "cell_type": "code",
      "source": [
        "lista = [5,3,9,0,1,2,6,4,7,8]\n",
        "print('lista inicial:', lista,'\\n')\n",
        "print('numero de elementos na lista:', len(lista))\n",
        "print('quatro primeiros elementos:',lista[:4])\n",
        "print('Cinco ultimos elementos:', lista[-5:])\n",
        "print('Elementos nas posiçoes pares:', lista[::2])\n",
        "print('Elementos nas posiçoes impares:', lista[1::2])"
      ],
      "metadata": {
        "colab": {
          "base_uri": "https://localhost:8080/"
        },
        "id": "6ZBqWct30E4w",
        "outputId": "c5d0c824-cd40-4f35-ee83-125dfef06e4a"
      },
      "execution_count": 16,
      "outputs": [
        {
          "output_type": "stream",
          "name": "stdout",
          "text": [
            "lista inicial: [5, 3, 9, 0, 1, 2, 6, 4, 7, 8] \n",
            "\n",
            "numero de elementos na lista: 10\n",
            "quatro primeiros elementos: [5, 3, 9, 0]\n",
            "Cinco ultimos elementos: [2, 6, 4, 7, 8]\n",
            "Elementos nas posiçoes pares: [5, 9, 1, 6, 7]\n",
            "Elementos nas posiçoes impares: [3, 0, 2, 4, 8]\n"
          ]
        }
      ]
    },
    {
      "cell_type": "code",
      "source": [
        "from random import randint\n",
        "\n",
        "def gerar_lista_aleatoria():\n",
        "  lista_aleatoria = []\n",
        "  for i in range(10):\n",
        "    lista_aleatoria.append(randint(1, 100))\n",
        "  return lista_aleatoria\n",
        "lista = gerar_lista_aleatoria()\n",
        "print('\\n\\nLista inicial:', lista, '\\n')\n",
        "print('quatro primeiros elementos:', lista[:4])\n",
        "print('cinco ultimos elementos:', lista[-5:])\n",
        "print('elementos nas posiçoes pares:', lista[::2])\n",
        "print('elementos nas posiçoes imparesa:', lista[1::2])"
      ],
      "metadata": {
        "colab": {
          "base_uri": "https://localhost:8080/"
        },
        "id": "9HoiJv71CZ36",
        "outputId": "779baa75-4821-463c-f44f-cb419aa31c97"
      },
      "execution_count": 23,
      "outputs": [
        {
          "output_type": "stream",
          "name": "stdout",
          "text": [
            "\n",
            "\n",
            "Lista inicial: [99, 62, 25, 75, 70, 35, 30, 38, 75, 69] \n",
            "\n",
            "quatro primeiros elementos: [99, 62, 25, 75]\n",
            "cinco ultimos elementos: [35, 30, 38, 75, 69]\n",
            "elementos nas posiçoes pares: [99, 25, 70, 30, 75]\n",
            "elementos nas posiçoes imparesa: [62, 75, 35, 38, 69]\n"
          ]
        }
      ]
    }
  ]
}